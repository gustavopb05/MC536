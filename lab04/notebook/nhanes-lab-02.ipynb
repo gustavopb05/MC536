{
 "cells": [
  {
   "cell_type": "code",
   "execution_count": 2,
   "metadata": {},
   "outputs": [],
   "source": [
    "%defaultDatasource jdbc:h2:mem:db"
   ]
  },
  {
   "cell_type": "markdown",
   "metadata": {},
   "source": [
    "# Analisando o Uso de Medicamentos\n",
    "* Esta tarefa analisará os dados conforme três abordagens: análise do comportamento estatístico; análise de correlação entre pares; análise de correlação de variáveis.\n",
    "* A partir dos arquivos CSV que estão no diretórios /data/nhanes considere as seguintes tabelas SQL."
   ]
  },
  {
   "cell_type": "code",
   "execution_count": 3,
   "metadata": {},
   "outputs": [],
   "source": [
    "CREATE TABLE Pessoa (\n",
    "  Id VARCHAR(5) NOT NULL,\n",
    "  Genero INTEGER,\n",
    "  Idade INTEGER,\n",
    "  PRIMARY KEY(Id)\n",
    ") AS SELECT\n",
    "    Id,\n",
    "    Genero,\n",
    "    Idade\n",
    "FROM CSVREAD('../../../data/nhanes/demographic-person.csv');\n",
    "\n",
    "CREATE TABLE Medicamento (\n",
    "  Codigo VARCHAR(6) NOT NULL,\n",
    "  NomeMedicamento VARCHAR(100) NOT NULL,\n",
    "  PRIMARY KEY(Codigo)\n",
    ") AS SELECT\n",
    "    Codigo,\n",
    "    NomeMedicamento\n",
    "FROM CSVREAD('../../../data/nhanes/medications-drug.csv');\n",
    "\n",
    "CREATE TABLE UsoMedicamento (\n",
    "  IdPessoa VARCHAR(5) NOT NULL,\n",
    "  CodMedicamento VARCHAR(6) NOT NULL,\n",
    "  DiasUso INTEGER,\n",
    "  FOREIGN KEY(IdPessoa)\n",
    "    REFERENCES Pessoa(Id)\n",
    "      ON DELETE NO ACTION\n",
    "      ON UPDATE NO ACTION,\n",
    "  FOREIGN KEY(CodMedicamento)\n",
    "    REFERENCES Medicamento(Codigo)\n",
    "      ON DELETE NO ACTION\n",
    "      ON UPDATE NO ACTION\n",
    ") AS SELECT\n",
    "    IdPessoa,\n",
    "    CodMedicamento,\n",
    "    DiasUso\n",
    "FROM CSVREAD('../../../data/nhanes/medications-use.csv');"
   ]
  },
  {
   "cell_type": "code",
   "execution_count": 4,
   "metadata": {},
   "outputs": [
    {
     "data": {
      "application/vnd.jupyter.widget-view+json": {
       "model_id": "a25a065f-7bf1-4990-b150-09f5f0b6ee0d",
       "version_major": 2,
       "version_minor": 0
      },
      "method": "display_data"
     },
     "metadata": {},
     "output_type": "display_data"
    },
    {
     "data": {
      "application/vnd.jupyter.widget-view+json": {
       "model_id": "6c707f8c-fcad-4c11-a961-37f085678e04",
       "version_major": 2,
       "version_minor": 0
      },
      "method": "display_data"
     },
     "metadata": {},
     "output_type": "display_data"
    },
    {
     "data": {
      "application/vnd.jupyter.widget-view+json": {
       "model_id": "b3a06425-6256-4068-8dc4-db2c04c1de67",
       "version_major": 2,
       "version_minor": 0
      },
      "method": "display_data"
     },
     "metadata": {},
     "output_type": "display_data"
    }
   ],
   "source": [
    "SELECT * FROM Pessoa;\n",
    "SELECT * FROM Medicamento;\n",
    "SELECT * FROM UsoMedicamento;"
   ]
  },
  {
   "cell_type": "markdown",
   "metadata": {},
   "source": [
    "# I. Análise de comportamento estatístico"
   ]
  },
  {
   "cell_type": "markdown",
   "metadata": {},
   "source": [
    "## 1) Contabilizando o uso de medicamentos\n",
    "\n",
    "* Liste o nome de todos os medicamentos e a quantidade de pessoas que usa cada um deles."
   ]
  },
  {
   "cell_type": "code",
   "execution_count": null,
   "metadata": {},
   "outputs": [],
   "source": [
    "SELECT M.NomeMedicamento, count(UM.IdPessoa)\n",
    "FROM UsoMedicamento UM, Medicamento M\n",
    "WHERE UM.CodMedicamento = M.Codigo\n",
    "GROUP BY UM.CodMedicamento"
   ]
  },
  {
   "cell_type": "markdown",
   "metadata": {},
   "source": [
    "## 2) Medicamento mais usado com VIEW\n",
    "\n",
    "* Informe o código do medicamento mais usado: fazendo uso de VIEW."
   ]
  },
  {
   "cell_type": "code",
   "execution_count": null,
   "metadata": {},
   "outputs": [],
   "source": [
    "DROP VIEW IF EXISTS MaxUsado;\n",
    "\n",
    "CREATE VIEW MaxUsado AS\n",
    "SELECT UM.CodMedicamento, count(UM.DiasUso) AS Numero\n",
    "FROM UsoMedicamento UM\n",
    "GROUP BY UM.CodMedicamento\n",
    "ORDER BY Numero DESC limit 1;\n",
    "\n",
    "SELECT * FROM MaxUsado;"
   ]
  },
  {
   "cell_type": "markdown",
   "metadata": {},
   "source": [
    "## 3) Medicamento mais usado sem VIEW\n",
    "\n",
    "* Informe o código do medicamento mais usado: sem fazer uso de VIEW."
   ]
  },
  {
   "cell_type": "code",
   "execution_count": null,
   "metadata": {},
   "outputs": [],
   "source": [
    "SELECT UM.CodMedicamento, count(UM.DiasUso) AS Numero\n",
    "FROM UsoMedicamento UM\n",
    "GROUP BY UM.CodMedicamento\n",
    "ORDER BY Numero DESC limit 1;"
   ]
  },
  {
   "cell_type": "markdown",
   "metadata": {},
   "source": [
    "## 4) Nome do medicamento mais usado\n",
    "* Informe o nome do medicamento mais usado (uso de VIEW é opcional)."
   ]
  },
  {
   "cell_type": "code",
   "execution_count": null,
   "metadata": {},
   "outputs": [],
   "source": [
    "SELECT M.NomeMedicamento, MU.Numero\n",
    "FROM Medicamento M, MaxUsado MU\n",
    "WHERE M.Codigo = MU.CodMedicamento"
   ]
  },
  {
   "cell_type": "markdown",
   "metadata": {},
   "source": [
    "## 5) Contabilizando quanto as pessoas usam de medicamento\n",
    "\n",
    "* Informe o número médio de uso de medicamento por pessoa."
   ]
  },
  {
   "cell_type": "code",
   "execution_count": null,
   "metadata": {},
   "outputs": [],
   "source": [
    "DROP VIEW IF EXISTS PessoasNumeroMedicamentos;\n",
    "\n",
    "CREATE VIEW PessoasNumeroMedicamentos AS\n",
    "SELECT UM.IdPessoa, COUNT(UM.CodMedicamento) Numero\n",
    "FROM UsoMedicamento UM\n",
    "GROUP BY IdPessoa;\n",
    "\n",
    "SELECT AVG(PNM.Numero)\n",
    "FROM PessoasNumeroMedicamentos PNM"
   ]
  },
  {
   "cell_type": "markdown",
   "metadata": {},
   "source": [
    "## 6) Pessoas que usam mais do que a média\n",
    "\n",
    "* Liste o id das pessoas que usam mais medicamentos do que a média."
   ]
  },
  {
   "cell_type": "code",
   "execution_count": null,
   "metadata": {},
   "outputs": [],
   "source": [
    "SELECT PNM.IdPessoa, PNM.Numero\n",
    "FROM PessoasNumeroMedicamentos PNM\n",
    "WHERE PNM.Numero > (SELECT AVG(PNM.Numero)\n",
    "                    FROM PessoasNumeroMedicamentos PNM)\n",
    "ORDER BY PNM.Numero DESC;"
   ]
  },
  {
   "cell_type": "markdown",
   "metadata": {},
   "source": [
    "## 7) Análise do uso de medicamento\n",
    "\n",
    "* Considere que um médico quer fazer responder a seguinte questão: pessoas tendem a usar mais medicamentos conforme ficam mais velhas?\n",
    "* Escreva uma query que ajude o médico a realizar esta análise."
   ]
  },
  {
   "cell_type": "code",
   "execution_count": null,
   "metadata": {},
   "outputs": [],
   "source": [
    "SELECT P.Idade, AVG(PNM.Numero)\n",
    "FROM PessoasNumeroMedicamentos PNM, Pessoa P\n",
    "WHERE P.Id = PNM.IdPessoa\n",
    "GROUP BY P.Idade \n",
    "ORDER BY P.Idade;"
   ]
  },
  {
   "cell_type": "markdown",
   "metadata": {},
   "source": [
    "# II. Análise de correlação em pares\n",
    "## Estudo de ação cruzada entre medicamentos\n",
    "\n",
    "* Um pesquisador quer estudar o efeito cruzado de usar dois medicamentos simultaneamente. \n",
    "* Para isso ele precisará da seguinte sequência de queries."
   ]
  },
  {
   "cell_type": "markdown",
   "metadata": {},
   "source": [
    "## 8) Medicamentos tomados em conjunto\n",
    "* Construa uma VIEW com duas colunas: medicamentoA, medicamentoB\n",
    "* Nessa VIEW, é criada uma tupla (medicamentoA, medicamentoB) toda vez que uma pessoa toma o medicamento A e também o medicamento B.\n",
    "* Haverá repetição de tuplas, já que mais de uma pessoa pode tomar o mesmo par de medicamentos.\n",
    "* Cuidado para não duplicar a mesma informação, ou seja, considerando que uma pessoa tomou o medicamentoX e o medicamentoY, cuidado para não criar duas tuplas: (medicamentoX, medicamentoY) e (medicamentoY, medicamentoX)."
   ]
  },
  {
   "cell_type": "code",
   "execution_count": null,
   "metadata": {},
   "outputs": [],
   "source": [
    "DROP VIEW IF EXISTS MedicamentosConjunto;\n",
    "\n",
    "CREATE VIEW MedicamentosConjunto AS\n",
    "SELECT UM.CodMedicamento MedicamentoA, UMB.CodMedicamento MedicamentoB\n",
    "FROM UsoMedicamento UM, (Select * FROM UsoMedicamento) UMB\n",
    "WHERE UM.IdPessoa = UMB.IdPessoa AND UM.CodMedicamento > UMB.CodMedicamento;\n",
    "\n",
    "SELECT * FROM MedicamentosConjunto;"
   ]
  },
  {
   "cell_type": "markdown",
   "metadata": {},
   "source": [
    "## 9) Total de medicamento tomados em conjunto\n",
    "* Apresente o total de pessoas que toma cada par de medicamentos."
   ]
  },
  {
   "cell_type": "code",
   "execution_count": null,
   "metadata": {},
   "outputs": [],
   "source": [
    "SELECT MC.MedicamentoA, MC.MedicamentoB, COUNT(*) TotalConjunta\n",
    "FROM MedicamentosConjunto MC\n",
    "GROUP BY MC.medicamentoA, MC.medicamentoB;"
   ]
  },
  {
   "cell_type": "markdown",
   "metadata": {},
   "source": [
    "# III. Análise de correlação entre variáveis\n",
    "* Consiste na análise da seguinte questão: como a alteração de uma variável afeta a outra.\n",
    "## Matriz de análise\n",
    "* Considere a matriz abaixo."
   ]
  },
  {
   "cell_type": "code",
   "execution_count": 4,
   "metadata": {},
   "outputs": [
    {
     "data": {
      "application/vnd.jupyter.widget-view+json": {
       "model_id": "1f49994c-de79-460b-8fc6-c28781c1ae07",
       "version_major": 2,
       "version_minor": 0
      },
      "method": "display_data"
     },
     "metadata": {},
     "output_type": "display_data"
    }
   ],
   "source": [
    "CREATE TABLE Matriz (\n",
    "  Id VARCHAR(5) NOT NULL,\n",
    "  Genero INTEGER,\n",
    "  Idade INTEGER,\n",
    "  IdadeAte60 BOOLEAN,\n",
    "  MaisUmAnoMedicamento BOOLEAN,\n",
    "  MedicamentosAcimaMedia BOOLEAN,\n",
    "  PRIMARY KEY(Id)\n",
    ") AS SELECT\n",
    "    Id,\n",
    "    Genero,\n",
    "    Idade,\n",
    "    FALSE, FALSE, FALSE\n",
    "FROM CSVREAD('../../../data/nhanes/demographic-person.csv');\n",
    "\n",
    "SELECT * FROM Matriz;"
   ]
  },
  {
   "cell_type": "markdown",
   "metadata": {},
   "source": [
    "## 10) Atualização simples da matriz\n",
    "* Utilize o comando UPDATE para atualizar a coluna IdadeAte60 da tabela colocando verdadeiro para as pessoas que têm até 60 anos de idade."
   ]
  },
  {
   "cell_type": "code",
   "execution_count": null,
   "metadata": {},
   "outputs": [],
   "source": [
    "UPDATE Matriz M\n",
    "SET IdadeAte60 = true\n",
    "WHERE M.Idade < 61;\n",
    "\n",
    "SELECT * FROM Matriz"
   ]
  },
  {
   "cell_type": "markdown",
   "metadata": {},
   "source": [
    "## 11) Atualização vinculada a uma segunda tabela\n",
    "* Utilize o comando UPDATE para atualizar a coluna MaisUmAnoMedicamento, colocando verdadeiro para aquelas pessoas que usam pelo menos um medicamento há mais de um ano."
   ]
  },
  {
   "cell_type": "code",
   "execution_count": null,
   "metadata": {},
   "outputs": [],
   "source": [
    "UPDATE Matriz M\n",
    "SET M.MaisUmAnoMedicamento = true\n",
    "WHERE M.Id IN (SELECT DISTINCT UM.IdPessoa\n",
    "             FROM UsoMedicamento UM\n",
    "             WHERE UM.DiasUso > 365);\n",
    "             \n",
    "SELECT * FROM Matriz;"
   ]
  },
  {
   "cell_type": "markdown",
   "metadata": {},
   "source": [
    "## 12) Atualização baseada em uma consulta complexa\n",
    "* Utilize o comando UPDATE para atualizar a coluna MedicamentosAcimaMedia, colocando verdadeiro para aquelas pessoas que usam um número de medicamentos acima da média."
   ]
  },
  {
   "cell_type": "code",
   "execution_count": null,
   "metadata": {},
   "outputs": [],
   "source": [
    "UPDATE Matriz M\n",
    "SET M.MedicamentosAcimaMedia = true\n",
    "WHERE M.Id IN (SELECT PNM.IdPessoa\n",
    "               FROM PessoasNumeroMedicamentos PNM\n",
    "               WHERE PNM.Numero > (SELECT AVG(PNM.Numero)\n",
    "                                   FROM PessoasNumeroMedicamentos PNM));\n",
    "               \n",
    "SELECT * FROM Matriz;"
   ]
  },
  {
   "cell_type": "markdown",
   "metadata": {},
   "source": [
    "## 13) Que análise interessante pode ser feita?\n",
    "* A partir da Matriz criada, proponha uma análise interessante."
   ]
  },
  {
   "cell_type": "markdown",
   "metadata": {},
   "source": [
    "### 13a) Descreva a seguir (em Markdown) qual a análise que você propõe."
   ]
  },
  {
   "cell_type": "markdown",
   "metadata": {},
   "source": [
    "Vamos analisar se as pessoas mais velhas tomam mais remédios acima da média que os mais novos. Além disso, vamos ver para pessoas que tomam mais remédios também. Importante lembrar que pessoas abaixo de 60 anos também podem tomar remédios acima da média, a análise aqui é se a ocorrência nas pessoas acima de 60 anos é maior ou não. Dessa forma, vamos pegar o total de pessoas nos grupos abaixo de 60 anos e acima, e o total de pessoas nesses grupos que tomam mais remédios que a média, assim podemos comparar a porcetagem(ocorrência)."
   ]
  },
  {
   "cell_type": "markdown",
   "metadata": {},
   "source": [
    "### 13b) Escreva uma consulta em SQL que fornece informações para a análise proposta."
   ]
  },
  {
   "cell_type": "code",
   "execution_count": null,
   "metadata": {},
   "outputs": [],
   "source": [
    "SELECT M.IdadeAte60, COUNT(*)\n",
    "FROM Matriz M\n",
    "GROUP BY M.IdadeAte60;\n",
    "\n",
    "SELECT MM.IdadeAte60, COUNT(*)\n",
    "FROM (SELECT M.IdadeAte60\n",
    "      FROM Matriz M\n",
    "      WHERE M.MedicamentosAcimaMedia = true) MM\n",
    "GROUP BY MM.IdadeAte60;\n",
    "\n",
    "SELECT MM.IdadeAte60, COUNT(*)\n",
    "FROM (SELECT M.IdadeAte60\n",
    "      FROM Matriz M\n",
    "      WHERE M.MaisUmAnoMedicamento = true) MM\n",
    "GROUP BY MM.IdadeAte60;"
   ]
  }
 ],
 "metadata": {
  "kernelspec": {
   "display_name": "SQL",
   "language": "SQL",
   "name": "sql"
  },
  "language_info": {
   "codemirror_mode": "sql",
   "file_extension": ".sql",
   "mimetype": "",
   "name": "SQL",
   "nbconverter_exporter": "",
   "version": ""
  }
 },
 "nbformat": 4,
 "nbformat_minor": 4
}
